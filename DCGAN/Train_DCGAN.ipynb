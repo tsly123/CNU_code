{
  "nbformat": 4,
  "nbformat_minor": 0,
  "metadata": {
    "colab": {
      "name": "Train_DCGAN.ipynb",
      "version": "0.3.2",
      "provenance": [],
      "collapsed_sections": [],
      "include_colab_link": true
    },
    "kernelspec": {
      "name": "python3",
      "display_name": "Python 3"
    },
    "accelerator": "GPU"
  },
  "cells": [
    {
      "cell_type": "markdown",
      "metadata": {
        "id": "view-in-github",
        "colab_type": "text"
      },
      "source": [
        "<a href=\"https://colab.research.google.com/github/tsly123/CNU_code/blob/master/DCGAN/Train_DCGAN.ipynb\" target=\"_parent\"><img src=\"https://colab.research.google.com/assets/colab-badge.svg\" alt=\"Open In Colab\"/></a>"
      ]
    },
    {
      "metadata": {
        "id": "XYkqHarm_E0z",
        "colab_type": "text"
      },
      "cell_type": "markdown",
      "source": [
        "**READ ME FIRST**\n",
        "\n",
        "This code is taken from https://github.com/tatsy/keras-generative with small modifications. Visit the github for more GAN models.\n",
        "\n",
        "- This notebook is for initiating the training **DCGAN** with **CelebA dataset** (image size 32x32). It also contains **notes and troubleshooting instruction**. The main code is in folder models.\n",
        "- Download ** folder model + Train_DCGAN.ipynb + celebA_32.hdf5** to your Drive and run with Colab.\n",
        "- The image results will be saved in `./output/dcgan/results/`.\n",
        "- The example results are in folder `./output32_example/dcgan/results/`.\n",
        "- Another option is that you can download the folder `PC_code` and  `celebA_32.hdf5` or `celebA_64.hdf5` and run with your PC. Your PC should have GPU + >=12GB RAM or >=24GB RAM for running with `celebA_32.hdf5` or `celebA_64.hdf5`, respectively.\n",
        "\n",
        "tsly, Sat Dec 8 16:34:49 2018"
      ]
    },
    {
      "metadata": {
        "id": "l-e-kjLwJvok",
        "colab_type": "code",
        "outputId": "13585089-e5e7-4a04-b419-14584019ab9a",
        "colab": {
          "base_uri": "https://localhost:8080/",
          "height": 383
        }
      },
      "cell_type": "code",
      "source": [
        "# Mount the Drive\n",
        "import os\n",
        "\n",
        "if os.path.exists('./MyDrive') == False:\n",
        "  # Install a Drive FUSE wrapper.\n",
        "  # https://github.com/astrada/google-drive-ocamlfuse\n",
        "  !apt-get install -y -qq software-properties-common python-software-properties module-init-tools\n",
        "  !add-apt-repository -y ppa:alessandro-strada/ppa 2>&1 > /dev/null\n",
        "  !apt-get update -qq 2>&1 > /dev/null\n",
        "  !apt-get -y install -qq google-drive-ocamlfuse fuse\n",
        "\n",
        "  # Generate auth tokens for Colab\n",
        "  from google.colab import auth\n",
        "  auth.authenticate_user()\n",
        "\n",
        "  # Generate creds for the Drive FUSE library.\n",
        "  from oauth2client.client import GoogleCredentials\n",
        "  creds = GoogleCredentials.get_application_default()\n",
        "  import getpass\n",
        "  !google-drive-ocamlfuse -headless -id={creds.client_id} -secret={creds.client_secret} < /dev/null 2>&1 | grep URL\n",
        "  vcode = getpass.getpass()\n",
        "  !echo {vcode} | google-drive-ocamlfuse -headless -id={creds.client_id} -secret={creds.client_secret}\n",
        "\n",
        "  # Create a directory and mount Google Drive using that directory.\n",
        "  !mkdir -p MyDrive\n",
        "  !google-drive-ocamlfuse MyDrive"
      ],
      "execution_count": 0,
      "outputs": [
        {
          "output_type": "stream",
          "text": [
            "E: Package 'python-software-properties' has no installation candidate\n",
            "Selecting previously unselected package libfuse2:amd64.\n",
            "(Reading database ... 26397 files and directories currently installed.)\n",
            "Preparing to unpack .../libfuse2_2.9.7-1ubuntu1_amd64.deb ...\n",
            "Unpacking libfuse2:amd64 (2.9.7-1ubuntu1) ...\n",
            "Selecting previously unselected package fuse.\n",
            "Preparing to unpack .../fuse_2.9.7-1ubuntu1_amd64.deb ...\n",
            "Unpacking fuse (2.9.7-1ubuntu1) ...\n",
            "Selecting previously unselected package google-drive-ocamlfuse.\n",
            "Preparing to unpack .../google-drive-ocamlfuse_0.7.1-0ubuntu3~ubuntu18.04.1_amd64.deb ...\n",
            "Unpacking google-drive-ocamlfuse (0.7.1-0ubuntu3~ubuntu18.04.1) ...\n",
            "Setting up libfuse2:amd64 (2.9.7-1ubuntu1) ...\n",
            "Processing triggers for libc-bin (2.27-3ubuntu1) ...\n",
            "Processing triggers for man-db (2.8.3-2ubuntu0.1) ...\n",
            "Setting up fuse (2.9.7-1ubuntu1) ...\n",
            "Setting up google-drive-ocamlfuse (0.7.1-0ubuntu3~ubuntu18.04.1) ...\n",
            "Please, open the following URL in a web browser: https://accounts.google.com/o/oauth2/auth?client_id=32555940559.apps.googleusercontent.com&redirect_uri=urn%3Aietf%3Awg%3Aoauth%3A2.0%3Aoob&scope=https%3A%2F%2Fwww.googleapis.com%2Fauth%2Fdrive&response_type=code&access_type=offline&approval_prompt=force\n",
            "··········\n",
            "Please, open the following URL in a web browser: https://accounts.google.com/o/oauth2/auth?client_id=32555940559.apps.googleusercontent.com&redirect_uri=urn%3Aietf%3Awg%3Aoauth%3A2.0%3Aoob&scope=https%3A%2F%2Fwww.googleapis.com%2Fauth%2Fdrive&response_type=code&access_type=offline&approval_prompt=force\n",
            "Please enter the verification code: Access token retrieved correctly.\n"
          ],
          "name": "stdout"
        }
      ]
    },
    {
      "metadata": {
        "id": "QXeJ3u_8J0Bt",
        "colab_type": "code",
        "outputId": "3263cbe4-609c-46db-9728-c964948125df",
        "colab": {
          "base_uri": "https://localhost:8080/",
          "height": 52
        }
      },
      "cell_type": "code",
      "source": [
        "# check if the code and weight are in the same directory. Assume the code and weight folder name \"DLtutorial\"\n",
        "# and MyDrive is the parent folder of your Google Drive.\n",
        "# Otherwise, please check the directory again by !echo $pwd\n",
        "\n",
        "!ls MyDrive/DLtutorial/DCGAN"
      ],
      "execution_count": 0,
      "outputs": [
        {
          "output_type": "stream",
          "text": [
            " celebA_32.hdf5   models\t     PC_code\t  'READ ME FIRST.odt'\n",
            " celebA_64.hdf5   output32_example   __pycache__   Train_DCGAN.ipynb\n"
          ],
          "name": "stdout"
        }
      ]
    },
    {
      "metadata": {
        "id": "bOQ7y38IIHSQ",
        "colab_type": "code",
        "outputId": "b2fd35f7-5ac5-4ffc-fcfb-e006bc26b804",
        "colab": {
          "base_uri": "https://localhost:8080/",
          "height": 1348
        }
      },
      "cell_type": "code",
      "source": [
        "os.environ['TF_CPP_MIN_LOG_LEVEL'] = '3'\n",
        "\n",
        "import numpy as np\n",
        "import matplotlib\n",
        "import h5py\n",
        "matplotlib.use('Agg')\n",
        "\n",
        "from MyDrive.DLtutorial.DCGAN.models import DCGAN\n",
        "\n",
        "models = {'dcgan': DCGAN}"
      ],
      "execution_count": 0,
      "outputs": [
        {
          "output_type": "stream",
          "text": [
            "/usr/local/lib/python3.6/dist-packages/ipykernel_launcher.py:6: UserWarning: \n",
            "This call to matplotlib.use() has no effect because the backend has already\n",
            "been chosen; matplotlib.use() must be called *before* pylab, matplotlib.pyplot,\n",
            "or matplotlib.backends is imported for the first time.\n",
            "\n",
            "The backend was *originally* set to 'module://ipykernel.pylab.backend_inline' by the following code:\n",
            "  File \"/usr/lib/python3.6/runpy.py\", line 193, in _run_module_as_main\n",
            "    \"__main__\", mod_spec)\n",
            "  File \"/usr/lib/python3.6/runpy.py\", line 85, in _run_code\n",
            "    exec(code, run_globals)\n",
            "  File \"/usr/local/lib/python3.6/dist-packages/ipykernel_launcher.py\", line 16, in <module>\n",
            "    app.launch_new_instance()\n",
            "  File \"/usr/local/lib/python3.6/dist-packages/traitlets/config/application.py\", line 657, in launch_instance\n",
            "    app.initialize(argv)\n",
            "  File \"<decorator-gen-121>\", line 2, in initialize\n",
            "  File \"/usr/local/lib/python3.6/dist-packages/traitlets/config/application.py\", line 87, in catch_config_error\n",
            "    return method(app, *args, **kwargs)\n",
            "  File \"/usr/local/lib/python3.6/dist-packages/ipykernel/kernelapp.py\", line 462, in initialize\n",
            "    self.init_gui_pylab()\n",
            "  File \"/usr/local/lib/python3.6/dist-packages/ipykernel/kernelapp.py\", line 403, in init_gui_pylab\n",
            "    InteractiveShellApp.init_gui_pylab(self)\n",
            "  File \"/usr/local/lib/python3.6/dist-packages/IPython/core/shellapp.py\", line 213, in init_gui_pylab\n",
            "    r = enable(key)\n",
            "  File \"/usr/local/lib/python3.6/dist-packages/IPython/core/interactiveshell.py\", line 2950, in enable_matplotlib\n",
            "    pt.activate_matplotlib(backend)\n",
            "  File \"/usr/local/lib/python3.6/dist-packages/IPython/core/pylabtools.py\", line 309, in activate_matplotlib\n",
            "    matplotlib.pyplot.switch_backend(backend)\n",
            "  File \"/usr/local/lib/python3.6/dist-packages/matplotlib/pyplot.py\", line 232, in switch_backend\n",
            "    matplotlib.use(newbackend, warn=False, force=True)\n",
            "  File \"/usr/local/lib/python3.6/dist-packages/matplotlib/__init__.py\", line 1305, in use\n",
            "    reload(sys.modules['matplotlib.backends'])\n",
            "  File \"/usr/lib/python3.6/importlib/__init__.py\", line 166, in reload\n",
            "    _bootstrap._exec(spec, module)\n",
            "  File \"/usr/local/lib/python3.6/dist-packages/matplotlib/backends/__init__.py\", line 14, in <module>\n",
            "    line for line in traceback.format_stack()\n",
            "\n",
            "\n",
            "  \n",
            "Using TensorFlow backend.\n",
            "/content/MyDrive/DLtutorial/DCGAN/models/base.py:14: UserWarning: \n",
            "This call to matplotlib.use() has no effect because the backend has already\n",
            "been chosen; matplotlib.use() must be called *before* pylab, matplotlib.pyplot,\n",
            "or matplotlib.backends is imported for the first time.\n",
            "\n",
            "The backend was *originally* set to 'module://ipykernel.pylab.backend_inline' by the following code:\n",
            "  File \"/usr/lib/python3.6/runpy.py\", line 193, in _run_module_as_main\n",
            "    \"__main__\", mod_spec)\n",
            "  File \"/usr/lib/python3.6/runpy.py\", line 85, in _run_code\n",
            "    exec(code, run_globals)\n",
            "  File \"/usr/local/lib/python3.6/dist-packages/ipykernel_launcher.py\", line 16, in <module>\n",
            "    app.launch_new_instance()\n",
            "  File \"/usr/local/lib/python3.6/dist-packages/traitlets/config/application.py\", line 657, in launch_instance\n",
            "    app.initialize(argv)\n",
            "  File \"<decorator-gen-121>\", line 2, in initialize\n",
            "  File \"/usr/local/lib/python3.6/dist-packages/traitlets/config/application.py\", line 87, in catch_config_error\n",
            "    return method(app, *args, **kwargs)\n",
            "  File \"/usr/local/lib/python3.6/dist-packages/ipykernel/kernelapp.py\", line 462, in initialize\n",
            "    self.init_gui_pylab()\n",
            "  File \"/usr/local/lib/python3.6/dist-packages/ipykernel/kernelapp.py\", line 403, in init_gui_pylab\n",
            "    InteractiveShellApp.init_gui_pylab(self)\n",
            "  File \"/usr/local/lib/python3.6/dist-packages/IPython/core/shellapp.py\", line 213, in init_gui_pylab\n",
            "    r = enable(key)\n",
            "  File \"/usr/local/lib/python3.6/dist-packages/IPython/core/interactiveshell.py\", line 2950, in enable_matplotlib\n",
            "    pt.activate_matplotlib(backend)\n",
            "  File \"/usr/local/lib/python3.6/dist-packages/IPython/core/pylabtools.py\", line 309, in activate_matplotlib\n",
            "    matplotlib.pyplot.switch_backend(backend)\n",
            "  File \"/usr/local/lib/python3.6/dist-packages/matplotlib/pyplot.py\", line 232, in switch_backend\n",
            "    matplotlib.use(newbackend, warn=False, force=True)\n",
            "  File \"/usr/local/lib/python3.6/dist-packages/matplotlib/__init__.py\", line 1305, in use\n",
            "    reload(sys.modules['matplotlib.backends'])\n",
            "  File \"/usr/lib/python3.6/importlib/__init__.py\", line 166, in reload\n",
            "    _bootstrap._exec(spec, module)\n",
            "  File \"/usr/local/lib/python3.6/dist-packages/matplotlib/backends/__init__.py\", line 14, in <module>\n",
            "    line for line in traceback.format_stack()\n",
            "\n",
            "\n",
            "  matplotlib.use('Agg')\n"
          ],
          "name": "stderr"
        }
      ]
    },
    {
      "metadata": {
        "id": "JZIC_T-lMpKV",
        "colab_type": "code",
        "colab": {}
      },
      "cell_type": "code",
      "source": [
        "def load_data(filename = 'MyDrive/DLtutorial/DCGAN/celebA_32.hdf5', size=-1):\n",
        "    f = h5py.File(filename)\n",
        "\n",
        "    dset = Dataset()\n",
        "    dset.images = np.asarray(f['images'], 'float32') / 255.0\n",
        "\n",
        "    if size > 0:\n",
        "        dset.images = dset.images[:size]\n",
        "\n",
        "    return dset\n",
        "  \n",
        "class Dataset(object):\n",
        "    def __init__(self):\n",
        "        self.images = None\n",
        "\n",
        "    def __len__(self):\n",
        "        return len(self.images)\n",
        "\n",
        "    def _get_shape(self):\n",
        "        return self.images.shape\n",
        "\n",
        "    shape = property(_get_shape)"
      ],
      "execution_count": 0,
      "outputs": []
    },
    {
      "metadata": {
        "id": "y-6vxyaZIHSV",
        "colab_type": "code",
        "colab": {}
      },
      "cell_type": "code",
      "source": [
        "# Training parameters\n",
        "\n",
        "def main(model_name='dcgan', epochs=100, batchsize=64, output_dir='MyDrive/DLtutorial/DCGAN/output', zdims=50, gpu=0):\n",
        "    \n",
        "    # select gpu\n",
        "    os.environ['CUDA_VISIBLE_DEVICES'] = str(gpu)\n",
        "\n",
        "    # Make output direcotiry if not exists\n",
        "    if not os.path.isdir(output_dir):\n",
        "        os.mkdir(output_dir)\n",
        "\n",
        "    datasets = load_data()\n",
        "\n",
        "    model = models[model_name](\n",
        "        input_shape=datasets.shape[1:],\n",
        "        z_dims=zdims,\n",
        "        output=output_dir\n",
        "    )\n",
        "\n",
        "    # Training loop\n",
        "    datasets = datasets.images * 2.0 - 1.0\n",
        "    samples = np.random.normal(size=(100, zdims)).astype(np.float32)\n",
        "    model.main_loop(datasets, samples,\n",
        "        epochs=epochs,\n",
        "        batchsize=batchsize,\n",
        "        reporter=['loss', 'g_loss', 'd_loss', 'g_acc', 'd_acc'])"
      ],
      "execution_count": 0,
      "outputs": []
    },
    {
      "metadata": {
        "id": "B-gCTmCFX0Ze",
        "colab_type": "text"
      },
      "cell_type": "markdown",
      "source": [
        "**Some notes**\n",
        "\n",
        "You can change the `zdim` parameter which decide how big is the sampling vector for generator input. The higher 'zdim', the more detailed image is. Higher 'zdim' also come with longer converging time. For example, while the `zdim = 100` will generate noise images for the first 160,000 samples (of total 202599), and start converging at the end of epoch 1,  'zdim = 50' shows face-like images at the first 40,000 samples.\n",
        "\n",
        "**Troubleshooting**\n",
        "\n",
        "- When running the code, it will output as:\n",
        "\n",
        "`Epoch #1 | 17920/202599 (8.85 %) | g_loss = 1.943672 | d_loss = 0.776618 | g_acc = 0.031250 | d_acc = 0.539062 | ETA: 14 min 12 sec `\n",
        "\n",
        "where, `g_loss, d_loss, g_acc, d_acc` are generator and discriminator loss and accuracy, perspectively. While you should pay attention on the `g_loss, d_loss, d_acc`, the `g_acc` doesn't have much meaning.\n",
        "\n",
        "There are chances that you will encounter some troubles where the **`g_loss, d_loss, d_acc` don't change over iterations**. The main reason for these failure cases is that your hyperparametes were initially bad randomized.\n",
        "\n",
        "**Solution**\n",
        "\n",
        "- This code has been verified as working. Ideally, the `g_loss, d_loss, g_acc, d_acc` would change over iterations and `d_acc`would be somewhere around `0.3-0.7` as below.\n",
        "\n",
        "Epoch #2 | 156992 / 202599 ( 77.49 %) | g_loss = 0.711317 | d_loss = 0.694376 | g_acc = 0.140625 | d_acc = 0.476562 | ETA: 3 min 11 sec \n",
        "\n",
        "- The networks often converge after 1-2 first epochs, depending on how you set `zdim`. So if the numbers don't change or `d_acc = 1` after 5 epochs, **just restart the code and run it again**.\n",
        "- Run the code a few times and you will get the hang of it.\n",
        "\n",
        "########## HAVE FUN ##########"
      ]
    },
    {
      "metadata": {
        "id": "VkrInAvKIHSX",
        "colab_type": "code",
        "outputId": "c8c4a1c9-0d8a-461a-a42b-361ce59ff451",
        "colab": {
          "base_uri": "https://localhost:8080/",
          "height": 797
        }
      },
      "cell_type": "code",
      "source": [
        "if __name__ == '__main__':\n",
        "    main()"
      ],
      "execution_count": 0,
      "outputs": [
        {
          "output_type": "stream",
          "text": [
            "__________________________________________________________________________________________________\n",
            "Layer (type)                    Output Shape         Param #     Connected to                     \n",
            "==================================================================================================\n",
            "input_4 (InputLayer)            (None, 50)           0                                            \n",
            "__________________________________________________________________________________________________\n",
            "input_3 (InputLayer)            (None, 32, 32, 3)    0                                            \n",
            "__________________________________________________________________________________________________\n",
            "model_1 (Model)                 (None, 32, 32, 3)    2894723     input_4[0][0]                    \n",
            "__________________________________________________________________________________________________\n",
            "model_2 (Model)                 (None, 1)            67131393    input_3[0][0]                    \n",
            "                                                                 model_1[1][0]                    \n",
            "__________________________________________________________________________________________________\n",
            "discriminator_loss_layer_1 (Dis [(None, 1), (None, 1 0           model_2[1][0]                    \n",
            "                                                                 model_2[2][0]                    \n",
            "==================================================================================================\n",
            "Total params: 70,026,116\n",
            "Trainable params: 67,130,881\n",
            "Non-trainable params: 2,895,235\n",
            "__________________________________________________________________________________________________\n",
            "_________________________________________________________________\n",
            "Layer (type)                 Output Shape              Param #   \n",
            "=================================================================\n",
            "input_4 (InputLayer)         (None, 50)                0         \n",
            "_________________________________________________________________\n",
            "model_1 (Model)              (None, 32, 32, 3)         2894723   \n",
            "_________________________________________________________________\n",
            "model_2 (Model)              (None, 1)                 67131393  \n",
            "_________________________________________________________________\n",
            "generator_loss_layer_1 (Gene (None, 1)                 0         \n",
            "=================================================================\n",
            "Total params: 70,026,116\n",
            "Trainable params: 2,885,635\n",
            "Non-trainable params: 67,140,481\n",
            "_________________________________________________________________\n",
            "\n",
            "\n",
            "--- START TRAINING ---\n",
            "\n"
          ],
          "name": "stdout"
        },
        {
          "output_type": "stream",
          "text": [
            "/usr/local/lib/python3.6/dist-packages/keras/engine/training.py:490: UserWarning: Discrepancy between trainable weights and collected trainable weights, did you set `model.trainable` without calling `model.compile` after ?\n",
            "  'Discrepancy between trainable weights and collected trainable'\n"
          ],
          "name": "stderr"
        },
        {
          "output_type": "stream",
          "text": [
            "Epoch #1 | 202599 / 202599 (100.00 %) | g_loss = 0.738534 | d_loss = 0.696304 | g_acc = 0.205128 | d_acc = 0.435897 | ETA: 0 sec \n",
            "Epoch #2 | 202599 / 202599 (100.00 %) | g_loss = 0.689617 | d_loss = 0.713234 | g_acc = 0.589744 | d_acc = 0.371795 | ETA: 0 sec \n",
            "Epoch #3 | 202599 / 202599 (100.00 %) | g_loss = 0.719746 | d_loss = 0.700083 | g_acc = 0.128205 | d_acc = 0.346154 | ETA: 0 sec \n",
            "Epoch #4 | 193408 / 202599 ( 95.46 %) | g_loss = 0.962931 | d_loss = 0.681890 | g_acc = 0.015625 | d_acc = 0.531250 | ETA: 39 sec "
          ],
          "name": "stdout"
        }
      ]
    },
    {
      "metadata": {
        "id": "bqHVgSvJIHSZ",
        "colab_type": "code",
        "colab": {}
      },
      "cell_type": "code",
      "source": [
        ""
      ],
      "execution_count": 0,
      "outputs": []
    }
  ]
}